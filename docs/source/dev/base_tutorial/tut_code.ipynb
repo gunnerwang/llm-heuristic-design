{
 "cells": [
  {
   "cell_type": "markdown",
   "source": [
    "# Function, Program, Converter\n",
    "\n",
    "> This tutorial will talk about three core classes in the base package: `Function`, `Program`, and `TextFunctionProgramConverter`. \n",
    "\n",
    "## Function class\n",
    "Intuitively, an instance of a Function class maintains a function object which is going to be optimized. Its attributes encompasses function name, arguments list, return type, docstring, and function body. \n",
    "\n",
    "Please note that a function may not be executable, since the `import` statements are not included in the function. A Function class only focuses on individual function object.\n",
    "\n",
    "## Program class\n",
    "The program class maintains a Python program that is executable. This means a program may incorporate the import statement, globals variables, some class definition, and multiple functions.\n",
    "\n",
    "## TextFunctionProgramConverter class\n",
    "The converter can convert a function/program in `str` to a `Function`/`Program` class, or convert between Function instance and Program instance."
   ],
   "metadata": {
    "collapsed": false
   },
   "id": "49f553aec4175b0e"
  },
  {
   "metadata": {},
   "cell_type": "markdown",
   "source": [
    "## Tutorials\n",
    "Below are examples on how to use these classes."
   ],
   "id": "3f223a50ea66356b"
  },
  {
   "cell_type": "code",
   "id": "initial_id",
   "metadata": {
    "collapsed": true,
    "ExecuteTime": {
     "end_time": "2024-10-21T14:54:17.007917Z",
     "start_time": "2024-10-21T14:54:17.004258Z"
    }
   },
   "source": "from llm4ad.base import TextFunctionProgramConverter",
   "outputs": [],
   "execution_count": 2
  },
  {
   "cell_type": "markdown",
   "source": [
    "This is a program in str type."
   ],
   "metadata": {
    "collapsed": false
   },
   "id": "6154ed64221a8b5b"
  },
  {
   "cell_type": "code",
   "source": [
    "example_program_str = '''\\\n",
    "import numpy as np\n",
    "from typing import List\n",
    "\n",
    "def example_function(arr: List | np.ndarray):\n",
    "    \"\"\"This is an example function.\"\"\"\n",
    "    max = np.max(arr)\n",
    "    min = np.min(arr)\n",
    "    result = max + min\n",
    "    return result\n",
    "'''"
   ],
   "metadata": {
    "collapsed": false,
    "ExecuteTime": {
     "end_time": "2024-10-21T14:54:17.025260Z",
     "start_time": "2024-10-21T14:54:17.021926Z"
    }
   },
   "id": "c6af14f07c00a6f3",
   "outputs": [],
   "execution_count": 3
  },
  {
   "cell_type": "markdown",
   "source": [
    "The str program can be converted to a *Program* instance."
   ],
   "metadata": {
    "collapsed": false
   },
   "id": "3d359c454677c450"
  },
  {
   "cell_type": "code",
   "source": [
    "example_program = TextFunctionProgramConverter.text_to_program(example_program_str)\n",
    "print(type(example_program))\n",
    "print('---------------------------------')\n",
    "print(str(example_program))\n",
    "print('---------------------------------')\n",
    "print(example_program.functions[0])"
   ],
   "metadata": {
    "collapsed": false,
    "ExecuteTime": {
     "end_time": "2024-10-21T14:54:17.049998Z",
     "start_time": "2024-10-21T14:54:17.045399Z"
    }
   },
   "id": "13d2df87f4082240",
   "outputs": [
    {
     "name": "stdout",
     "output_type": "stream",
     "text": [
      "<class 'alevo.base.code.Program'>\n",
      "---------------------------------\n",
      "import numpy as np\n",
      "from typing import List\n",
      "\n",
      "def example_function(arr: List | np.ndarray):\n",
      "    \"\"\"This is an example function.\"\"\"\n",
      "    max = np.max(arr)\n",
      "    min = np.min(arr)\n",
      "    result = max + min\n",
      "    return result\n",
      "\n",
      "\n",
      "---------------------------------\n",
      "def example_function(arr: List | np.ndarray):\n",
      "    \"\"\"This is an example function.\"\"\"\n",
      "    max = np.max(arr)\n",
      "    min = np.min(arr)\n",
      "    result = max + min\n",
      "    return result\n",
      "\n",
      "\n"
     ]
    }
   ],
   "execution_count": 4
  },
  {
   "cell_type": "markdown",
   "source": [
    "The function in the str program can be extracted into a *Function* instance.\n",
    "Please note that the function is not executable, as it lacks package import statements."
   ],
   "metadata": {
    "collapsed": false
   },
   "id": "efa7301ec35a7fbd"
  },
  {
   "cell_type": "code",
   "source": [
    "example_function = TextFunctionProgramConverter.text_to_function(example_program_str)\n",
    "print(type(example_function))\n",
    "print()\n",
    "print(str(example_function))\n",
    "print()\n",
    "print(f'[function name] \\n{example_function.name}\\n')\n",
    "print(f'[function docstring] \\n{example_function.docstring}\\n')\n",
    "print(f'[function body] \\n{example_function.body}\\n')"
   ],
   "metadata": {
    "collapsed": false,
    "ExecuteTime": {
     "end_time": "2024-10-21T14:54:17.104245Z",
     "start_time": "2024-10-21T14:54:17.098402Z"
    }
   },
   "id": "153fdd140340b4d2",
   "outputs": [
    {
     "name": "stdout",
     "output_type": "stream",
     "text": [
      "<class 'alevo.base.code.Function'>\n",
      "\n",
      "def example_function(arr: List | np.ndarray):\n",
      "    \"\"\"This is an example function.\"\"\"\n",
      "    max = np.max(arr)\n",
      "    min = np.min(arr)\n",
      "    result = max + min\n",
      "    return result\n",
      "\n",
      "\n",
      "\n",
      "[function name] \n",
      "example_function\n",
      "\n",
      "[function docstring] \n",
      "This is an example function.\n",
      "\n",
      "[function body] \n",
      "    max = np.max(arr)\n",
      "    min = np.min(arr)\n",
      "    result = max + min\n",
      "    return result\n",
      "\n"
     ]
    }
   ],
   "execution_count": 5
  },
  {
   "cell_type": "markdown",
   "source": [
    "You can convert a function (in str or Function instance) to a Program instance just by providing a template program.\n",
    "As shown below, the name of the function is modified to that in the template program, the package import statements are added, but the function body are preserved."
   ],
   "metadata": {
    "collapsed": false
   },
   "id": "da5272f0d7dbda"
  },
  {
   "cell_type": "code",
   "source": [
    "func = '''\n",
    "def ha_ha_ha_ha(arr: List | np.ndarray):\n",
    "    \"\"\"This is an example function.\"\"\"\n",
    "    max = np.max(arr)\n",
    "    min = np.min(arr)\n",
    "    result = max + min\n",
    "    return result\n",
    "'''\n",
    "\n",
    "program = TextFunctionProgramConverter.function_to_program(func, example_program)\n",
    "print(str(program))"
   ],
   "metadata": {
    "collapsed": false,
    "ExecuteTime": {
     "end_time": "2024-10-21T14:54:17.163657Z",
     "start_time": "2024-10-21T14:54:17.158502Z"
    }
   },
   "id": "77e2b23e059e48ab",
   "outputs": [
    {
     "name": "stdout",
     "output_type": "stream",
     "text": [
      "import numpy as np\n",
      "from typing import List\n",
      "\n",
      "def example_function(arr: List | np.ndarray):\n",
      "    \"\"\"This is an example function.\"\"\"\n",
      "    max = np.max(arr)\n",
      "    min = np.min(arr)\n",
      "    result = max + min\n",
      "    return result\n",
      "\n",
      "\n"
     ]
    }
   ],
   "execution_count": 6
  },
  {
   "cell_type": "code",
   "source": [],
   "metadata": {
    "collapsed": false,
    "ExecuteTime": {
     "end_time": "2024-10-21T14:54:17.256128Z",
     "start_time": "2024-10-21T14:54:17.252279Z"
    }
   },
   "id": "1e2a94ad5c6ddfcb",
   "outputs": [],
   "execution_count": null
  }
 ],
 "metadata": {
  "kernelspec": {
   "display_name": "Python 3",
   "language": "python",
   "name": "python3"
  },
  "language_info": {
   "codemirror_mode": {
    "name": "ipython",
    "version": 2
   },
   "file_extension": ".py",
   "mimetype": "text/x-python",
   "name": "python",
   "nbconvert_exporter": "python",
   "pygments_lexer": "ipython2",
   "version": "2.7.6"
  }
 },
 "nbformat": 4,
 "nbformat_minor": 5
}
