{
 "cells": [
  {
   "cell_type": "markdown",
   "source": [
    "# ModifyCode\n",
    "\n",
    "> This tutorial provides some examples on how to modify a `str` code using our provided `ModifyCode` class. The `ModifyCode` class reveals how `SecureEvaluator` add wrappers, random seeds, replace div with protected div to the \"algorithm to be evaluated\"."
   ],
   "metadata": {
    "collapsed": false
   },
   "id": "49f553aec4175b0e"
  },
  {
   "metadata": {},
   "cell_type": "markdown",
   "source": "## Tutorial ",
   "id": "5837733668184f7d"
  },
  {
   "cell_type": "code",
   "id": "initial_id",
   "metadata": {
    "collapsed": true,
    "ExecuteTime": {
     "end_time": "2024-10-21T14:59:08.651731Z",
     "start_time": "2024-10-21T14:59:05.464706Z"
    }
   },
   "source": [
    "from llm4ad.base import ModifyCode\n",
    "from llm4ad.base import TextFunctionProgramConverter"
   ],
   "outputs": [],
   "execution_count": 1
  },
  {
   "cell_type": "code",
   "source": [
    "example_program_str = '''\\\n",
    "import numpy as np\n",
    "from typing import List\n",
    "\n",
    "def example_function(arr: List | np.ndarray):\n",
    "    \"\"\"This is an example function.\"\"\"\n",
    "    max = np.max(arr)\n",
    "    min = np.min(arr)\n",
    "    result = max / min\n",
    "    return result\n",
    "'''"
   ],
   "metadata": {
    "collapsed": false,
    "ExecuteTime": {
     "end_time": "2024-10-21T14:59:08.662185Z",
     "start_time": "2024-10-21T14:59:08.658748Z"
    }
   },
   "id": "c6af14f07c00a6f3",
   "outputs": [],
   "execution_count": 2
  },
  {
   "cell_type": "markdown",
   "source": [
    "The \"get_functions_called\" function can extract the function name of the code."
   ],
   "metadata": {
    "collapsed": false
   },
   "id": "afd21b273ef31763"
  },
  {
   "cell_type": "code",
   "source": [
    "all_functions = ModifyCode.get_functions_name(example_program_str)\n",
    "print(all_functions)"
   ],
   "metadata": {
    "collapsed": false,
    "ExecuteTime": {
     "end_time": "2024-10-21T14:59:08.756177Z",
     "start_time": "2024-10-21T14:59:08.751263Z"
    }
   },
   "id": "13d2df87f4082240",
   "outputs": [
    {
     "name": "stdout",
     "output_type": "stream",
     "text": [
      "{'example_function'}\n"
     ]
    }
   ],
   "execution_count": 3
  },
  {
   "metadata": {},
   "cell_type": "markdown",
   "source": "Rename the function. This can also be achieved by converting the text to a program, find the function in the program, and update its `name` attribute.",
   "id": "cd311b8737b5bd7a"
  },
  {
   "cell_type": "code",
   "source": [
    "function_name = TextFunctionProgramConverter.text_to_function(example_program_str).name\n",
    "modified_program = ModifyCode.rename_function(example_program_str, function_name, 'ha_ha_ha_ha')\n",
    "print(modified_program)"
   ],
   "metadata": {
    "collapsed": false,
    "ExecuteTime": {
     "end_time": "2024-10-21T14:59:08.836229Z",
     "start_time": "2024-10-21T14:59:08.829790Z"
    }
   },
   "id": "153fdd140340b4d2",
   "outputs": [
    {
     "name": "stdout",
     "output_type": "stream",
     "text": [
      "import numpy as np\n",
      "from typing import List\n",
      "\n",
      "def ha_ha_ha_ha(arr: List | np.ndarray):\n",
      "    \"\"\"This is an example function.\"\"\"\n",
      "    max = np.max(arr)\n",
      "    min = np.min(arr)\n",
      "    result = max / min\n",
      "    return result\n",
      "\n"
     ]
    }
   ],
   "execution_count": 4
  },
  {
   "metadata": {},
   "cell_type": "markdown",
   "source": "Add a `numba.jit()` wrapper to the function. ",
   "id": "24293ef8d180096d"
  },
  {
   "cell_type": "code",
   "source": [
    "function_name = TextFunctionProgramConverter.text_to_function(example_program_str).name\n",
    "modified_program = ModifyCode.add_numba_decorator(example_program_str, function_name)\n",
    "print(modified_program)"
   ],
   "metadata": {
    "collapsed": false,
    "ExecuteTime": {
     "end_time": "2024-10-21T14:59:08.970535Z",
     "start_time": "2024-10-21T14:59:08.962576Z"
    }
   },
   "id": "77e2b23e059e48ab",
   "outputs": [
    {
     "name": "stdout",
     "output_type": "stream",
     "text": [
      "import numba\n",
      "import numpy as np\n",
      "from typing import List\n",
      "\n",
      "@numba.jit(nopython=True)\n",
      "def example_function(arr: List | np.ndarray):\n",
      "    \"\"\"This is an example function.\"\"\"\n",
      "    max = np.max(arr)\n",
      "    min = np.min(arr)\n",
      "    result = max / min\n",
      "    return result\n"
     ]
    }
   ],
   "execution_count": 5
  },
  {
   "metadata": {},
   "cell_type": "markdown",
   "source": "Set random seeds in the program.",
   "id": "371cf0c55ca46324"
  },
  {
   "cell_type": "code",
   "source": [
    "function_name = TextFunctionProgramConverter.text_to_function(example_program_str).name\n",
    "modified_program = ModifyCode.add_np_random_seed_below_numpy_import(example_program_str, seed=2024)\n",
    "print(modified_program)"
   ],
   "metadata": {
    "collapsed": false,
    "ExecuteTime": {
     "end_time": "2024-10-21T14:59:09.070400Z",
     "start_time": "2024-10-21T14:59:09.064440Z"
    }
   },
   "id": "1e2a94ad5c6ddfcb",
   "outputs": [
    {
     "name": "stdout",
     "output_type": "stream",
     "text": [
      "import numpy as np\n",
      "np.random.seed(2024)\n",
      "from typing import List\n",
      "\n",
      "def example_function(arr: List | np.ndarray):\n",
      "    \"\"\"This is an example function.\"\"\"\n",
      "    max = np.max(arr)\n",
      "    min = np.min(arr)\n",
      "    result = max / min\n",
      "    return result\n"
     ]
    }
   ],
   "execution_count": 6
  },
  {
   "metadata": {},
   "cell_type": "markdown",
   "source": "Import additional packages in the program. ",
   "id": "f513cf54fd6abbbf"
  },
  {
   "cell_type": "code",
   "source": [
    "modified_function = ModifyCode.add_import_package_statement(example_program_str, package_name='pandas', as_name='pd')\n",
    "print(modified_function)"
   ],
   "metadata": {
    "collapsed": false,
    "ExecuteTime": {
     "end_time": "2024-10-21T14:59:09.110180Z",
     "start_time": "2024-10-21T14:59:09.105425Z"
    }
   },
   "id": "d5115c8b9a480d94",
   "outputs": [
    {
     "name": "stdout",
     "output_type": "stream",
     "text": [
      "import pandas as pd\n",
      "import numpy as np\n",
      "from typing import List\n",
      "\n",
      "def example_function(arr: List | np.ndarray):\n",
      "    \"\"\"This is an example function.\"\"\"\n",
      "    max = np.max(arr)\n",
      "    min = np.min(arr)\n",
      "    result = max / min\n",
      "    return result\n"
     ]
    }
   ],
   "execution_count": 7
  },
  {
   "metadata": {},
   "cell_type": "markdown",
   "source": "Replace all normal div operation with the protected version (achieved using ast).",
   "id": "737dcde938a838af"
  },
  {
   "cell_type": "code",
   "source": [
    "modified_function = ModifyCode.replace_div_with_protected_div(example_program_str, delta=1e-4)\n",
    "print(modified_function)"
   ],
   "metadata": {
    "collapsed": false,
    "ExecuteTime": {
     "end_time": "2024-10-21T14:59:09.149863Z",
     "start_time": "2024-10-21T14:59:09.144175Z"
    }
   },
   "id": "52f0c9460b5f65ba",
   "outputs": [
    {
     "name": "stdout",
     "output_type": "stream",
     "text": [
      "import numpy as np\n",
      "from typing import List\n",
      "\n",
      "def example_function(arr: List | np.ndarray):\n",
      "    \"\"\"This is an example function.\"\"\"\n",
      "    max = np.max(arr)\n",
      "    min = np.min(arr)\n",
      "    result = _protected_div(max, min)\n",
      "    return result\n",
      "\n",
      "\n",
      "def _protected_div(x, y, delta=0.0001):\n",
      "    return x / (y + delta)\n",
      "        \n"
     ]
    }
   ],
   "execution_count": 8
  },
  {
   "cell_type": "code",
   "source": [],
   "metadata": {
    "collapsed": false,
    "ExecuteTime": {
     "end_time": "2024-10-21T14:59:09.234351Z",
     "start_time": "2024-10-21T14:59:09.231407Z"
    }
   },
   "id": "e2db911700b90920",
   "outputs": [],
   "execution_count": null
  }
 ],
 "metadata": {
  "kernelspec": {
   "display_name": "Python 3",
   "language": "python",
   "name": "python3"
  },
  "language_info": {
   "codemirror_mode": {
    "name": "ipython",
    "version": 2
   },
   "file_extension": ".py",
   "mimetype": "text/x-python",
   "name": "python",
   "nbconvert_exporter": "python",
   "pygments_lexer": "ipython2",
   "version": "2.7.6"
  }
 },
 "nbformat": 4,
 "nbformat_minor": 5
}
